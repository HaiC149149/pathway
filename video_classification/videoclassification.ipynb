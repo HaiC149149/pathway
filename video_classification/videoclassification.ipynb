{
 "cells": [
  {
   "cell_type": "code",
   "execution_count": 1,
   "metadata": {},
   "outputs": [],
   "source": [
    "import torch\n",
    "import torch.nn as nn\n",
    "import torch.optim as optim\n",
    "import torchvision.models as models\n",
    "import torchvision.transforms as transforms\n",
    "from torch.optim import lr_scheduler\n",
    "from torch.optim.lr_scheduler import StepLR\n",
    "\n",
    "import pandas as pd\n",
    "import numpy as np\n",
    "from datetime import datetime\n",
    "from matplotlib import pyplot as plt\n",
    "import copy\n",
    "import argparse\n",
    "import os\n",
    "\n",
    "from dataloader_video import getVideoDataLoader, get_pic_tensor\n",
    "from model import Conv_LSTM\n",
    "import pickle\n",
    "type = 'Emotion'\n",
    "batch_size = 8\n",
    "train_data_path = '/workspace/chi149/MELD/MELD.Raw/train'\n",
    "train_pic_folder = 'train_video_pic'\n",
    "train_filename_dic_pkl_name = 'train_video_filename_dic.pkl'\n",
    "\n",
    "test_data_path = '/workspace/chi149/MELD/MELD.Raw/test'\n",
    "test_pic_folder = 'test_video_pic'\n",
    "test_filename_dic_pkl_name = 'test_video_filename_dic.pkl'\n",
    "\n",
    "if type == 'Speaker':\n",
    "    train_label_dic_pickle_name = 'train_video_speaker_dic.pkl'\n",
    "    test_label_dic_pickle_name = 'test_video_speaker_dic.pkl'\n",
    "elif type == 'Emotion':\n",
    "    train_label_dic_pickle_name = 'train_video_emotion_dic.pkl'\n",
    "    test_label_dic_pickle_name = 'test_video_emotion_dic.pkl'\n",
    "\n",
    "# ------------------ transforms ------------------\n",
    "trans_train = transforms.Compose([\n",
    "    transforms.ToTensor(),\n",
    "    transforms.Resize(256),\n",
    "    transforms.RandomCrop(224),\n",
    "    transforms.RandomHorizontalFlip(),\n",
    "    transforms.Normalize(mean=[0.485, 0.456, 0.406],\n",
    "                            std=[0.229, 0.224, 0.225])\n",
    "])\n",
    "\n",
    "trans_test = transforms.Compose([\n",
    "    transforms.ToTensor(),\n",
    "    transforms.Resize((224, 224)),\n",
    "    transforms.Normalize(mean=[0.485, 0.456, 0.406],\n",
    "                            std=[0.229, 0.224, 0.225])\n",
    "])\n"
   ]
  },
  {
   "cell_type": "markdown",
   "metadata": {},
   "source": []
  },
  {
   "cell_type": "code",
   "execution_count": null,
   "metadata": {},
   "outputs": [
    {
     "name": "stdout",
     "output_type": "stream",
     "text": [
      "1842\n",
      "1842\n"
     ]
    }
   ],
   "source": [
    "\n",
    "# ------------------ get dataloader ------------------\n",
    "# train_dataloader = getVideoDataLoader(train_data_path, train_pic_folder, train_filename_dic_pkl_name, train_label_dic_pickle_name, trans_train, batch_size)\n",
    "test_dataloader = getVideoDataLoader(test_data_path, test_pic_folder, test_filename_dic_pkl_name, test_label_dic_pickle_name, trans_test, batch_size)\n",
    "# dataloaders = {'train': train_dataloader, 'test': test_dataloader}"
   ]
  },
  {
   "cell_type": "code",
   "execution_count": null,
   "metadata": {},
   "outputs": [],
   "source": [
    "for index, (data, labels) in enumerate(test_dataloader):\n",
    "    print(index)\n",
    "    print(data)\n",
    "    print(labels)\n",
    "    break"
   ]
  },
  {
   "cell_type": "code",
   "execution_count": null,
   "metadata": {},
   "outputs": [],
   "source": [
    "print(len(test_dataloader))"
   ]
  },
  {
   "cell_type": "code",
   "execution_count": 2,
   "metadata": {},
   "outputs": [],
   "source": [
    "with open(os.path.join(test_data_path, test_filename_dic_pkl_name),\n",
    "                  'rb') as f1:\n",
    "    filename_dic = pickle.load(f1)\n",
    "\n",
    "with open(os.path.join(test_data_path, test_label_dic_pickle_name),\n",
    "            'rb') as f2:\n",
    "    video_label_dic = pickle.load(f2)"
   ]
  },
  {
   "cell_type": "code",
   "execution_count": 3,
   "metadata": {},
   "outputs": [],
   "source": [
    "video_tensor_arr, label_arr = get_pic_tensor(\n",
    "            test_data_path, test_pic_folder, filename_dic,\n",
    "            video_label_dic, trans_test)"
   ]
  },
  {
   "cell_type": "code",
   "execution_count": null,
   "metadata": {},
   "outputs": [
    {
     "name": "stdout",
     "output_type": "stream",
     "text": [
      "1\n",
      "1\n"
     ]
    }
   ],
   "source": [
    "print(len(video_tensor_arr))\n",
    "print(len(label_arr))"
   ]
  }
 ],
 "metadata": {
  "kernelspec": {
   "display_name": "base",
   "language": "python",
   "name": "python3"
  },
  "language_info": {
   "codemirror_mode": {
    "name": "ipython",
    "version": 3
   },
   "file_extension": ".py",
   "mimetype": "text/x-python",
   "name": "python",
   "nbconvert_exporter": "python",
   "pygments_lexer": "ipython3",
   "version": "3.9.13"
  },
  "orig_nbformat": 4,
  "vscode": {
   "interpreter": {
    "hash": "5709209c4b3e06db4c06bfe1ea5e0eb19d044aba1a27d12a54371978f961b079"
   }
  }
 },
 "nbformat": 4,
 "nbformat_minor": 2
}
